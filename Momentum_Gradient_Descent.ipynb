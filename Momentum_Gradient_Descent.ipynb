{
  "nbformat": 4,
  "nbformat_minor": 0,
  "metadata": {
    "colab": {
      "provenance": [],
      "authorship_tag": "ABX9TyM6de+zVNFjwKIERnUF+JDL",
      "include_colab_link": true
    },
    "kernelspec": {
      "name": "python3",
      "display_name": "Python 3"
    },
    "language_info": {
      "name": "python"
    },
    "accelerator": "GPU",
    "gpuClass": "standard"
  },
  "cells": [
    {
      "cell_type": "markdown",
      "metadata": {
        "id": "view-in-github",
        "colab_type": "text"
      },
      "source": [
        "<a href=\"https://colab.research.google.com/github/Ak08032000/Gradient-Descent/blob/master/Momentum_Gradient_Descent.ipynb\" target=\"_parent\"><img src=\"https://colab.research.google.com/assets/colab-badge.svg\" alt=\"Open In Colab\"/></a>"
      ]
    },
    {
      "cell_type": "markdown",
      "source": [
        "# What is Momentum based Gradient Descent?\n"
      ],
      "metadata": {
        "id": "JPG5Yr5vbaQ1"
      }
    },
    {
      "cell_type": "code",
      "execution_count": null,
      "metadata": {
        "id": "skizXOHARb46"
      },
      "outputs": [],
      "source": [
        "import numpy as np\n",
        "\n",
        "X = [0.5, 2.5]\n",
        "Y = [0.2, 0.9]"
      ]
    },
    {
      "cell_type": "code",
      "source": [
        "def f(w,x,b):\n",
        "  return 1.0 / 1.0 + np.exp(-(w*x + b))"
      ],
      "metadata": {
        "id": "OKHcJnjPRxyy"
      },
      "execution_count": null,
      "outputs": []
    },
    {
      "cell_type": "code",
      "source": [
        "def error(w,b):\n",
        "  err = 0.0\n",
        "  for x,y in zip(X,Y):\n",
        "    fx = f(w,x,b)\n",
        "    err += 0.5 * (fx - y)**2\n",
        "  return err"
      ],
      "metadata": {
        "id": "QOQ8m85TSTtc"
      },
      "execution_count": null,
      "outputs": []
    },
    {
      "cell_type": "code",
      "source": [
        "def grad_w(w, b, x, y):\n",
        "  fx = f(w, x, b)\n",
        "  return (fx - y) * fx * (1 - fx) * x\n",
        "\n",
        "def grad_b(w, b, x, y):\n",
        "  fx = f(w, x,b)\n",
        "  return (fx - y) * fx * (1 - fx)\n",
        "  "
      ],
      "metadata": {
        "id": "HSONZU3XTOXl"
      },
      "execution_count": null,
      "outputs": []
    },
    {
      "cell_type": "code",
      "source": [
        "def do_momentum_gradient_descent():\n",
        "  w, b, eta = init_w, init_b, 1.0\n",
        "  prev_v_w, prev_v_b, gamma = 0, 0, 0.9\n",
        "  for i in range(max_epochs):\n",
        "    dw, db = 0, 0\n",
        "    for x,y in zip(X,Y):\n",
        "      dw += grad_w(w, b, x, y)\n",
        "      db += grad_b(w, b, x, y)\n",
        "\n",
        "    v_w = gamma * prev_v_w + eta* dw\n",
        "    v_b = gamma * prev_v_b + eta* db\n",
        "    w = w - v_w\n",
        "    b = b - v_b\n",
        "    prev_v_w = v_w\n",
        "    prev_v_b = v_b"
      ],
      "metadata": {
        "id": "jNlZkqYQUett"
      },
      "execution_count": null,
      "outputs": []
    },
    {
      "cell_type": "code",
      "source": [],
      "metadata": {
        "id": "h_IU6FB_WcF9"
      },
      "execution_count": null,
      "outputs": []
    }
  ]
}